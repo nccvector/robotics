{
 "cells": [
  {
   "cell_type": "markdown",
   "id": "8f2df512a9702e47",
   "metadata": {},
   "source": [
    "Finding hand-eye calibration equations using sympy"
   ]
  },
  {
   "cell_type": "code",
   "execution_count": 1,
   "id": "initial_id",
   "metadata": {
    "ExecuteTime": {
     "end_time": "2023-12-03T08:56:52.996953753Z",
     "start_time": "2023-12-03T08:56:52.689062812Z"
    }
   },
   "outputs": [],
   "source": [
    "import numpy as np\n",
    "import sympy as sm\n",
    "import scipy.spatial.transform as transform\n",
    "np.set_printoptions(suppress=True)\n",
    "sm.init_printing()"
   ]
  },
  {
   "cell_type": "markdown",
   "id": "e504d9c5ac2a0b5f",
   "metadata": {},
   "source": [
    "# Creating symbols"
   ]
  },
  {
   "cell_type": "code",
   "execution_count": 2,
   "id": "974fc2ec799616c",
   "metadata": {
    "ExecuteTime": {
     "end_time": "2023-12-03T08:56:59.824539668Z",
     "start_time": "2023-12-03T08:56:58.735606764Z"
    }
   },
   "outputs": [
    {
     "data": {
      "text/plain": [
       "'ALL SYMBOLS:'"
      ]
     },
     "metadata": {},
     "output_type": "display_data"
    },
    {
     "data": {
      "image/png": "[encoded data removed]",
      "text/latex": [
       "$\\displaystyle \\left[ a_{0}, \\  a_{1}, \\  a_{2}, \\  a_{3}, \\  a_{4}, \\  a_{5}, \\  a_{6}, \\  a_{7}, \\  a_{8}, \\  a_{9}, \\  a_{10}, \\  a_{11}\\right]$"
      ],
      "text/plain": [
       "[a₀, a₁, a₂, a₃, a₄, a₅, a₆, a₇, a₈, a₉, a₁₀, a₁₁]"
      ]
     },
     "metadata": {},
     "output_type": "display_data"
    },
    {
     "data": {
      "image/png": "[encoded data removed]",
      "text/latex": [
       "$\\displaystyle \\left[ x_{0}, \\  x_{1}, \\  x_{2}, \\  x_{3}, \\  x_{4}, \\  x_{5}, \\  x_{6}, \\  x_{7}, \\  x_{8}, \\  x_{9}, \\  x_{10}, \\  x_{11}\\right]$"
      ],
      "text/plain": [
       "[x₀, x₁, x₂, x₃, x₄, x₅, x₆, x₇, x₈, x₉, x₁₀, x₁₁]"
      ]
     },
     "metadata": {},
     "output_type": "display_data"
    },
    {
     "data": {
      "image/png": "[encoded data removed]",
      "text/latex": [
       "$\\displaystyle \\left[ z_{0}, \\  z_{1}, \\  z_{2}, \\  z_{3}, \\  z_{4}, \\  z_{5}, \\  z_{6}, \\  z_{7}, \\  z_{8}, \\  z_{9}, \\  z_{10}, \\  z_{11}\\right]$"
      ],
      "text/plain": [
       "[z₀, z₁, z₂, z₃, z₄, z₅, z₆, z₇, z₈, z₉, z₁₀, z₁₁]"
      ]
     },
     "metadata": {},
     "output_type": "display_data"
    },
    {
     "data": {
      "image/png": "[encoded data removed]",
      "text/latex": [
       "$\\displaystyle \\left[ b_{0}, \\  b_{1}, \\  b_{2}, \\  b_{3}, \\  b_{4}, \\  b_{5}, \\  b_{6}, \\  b_{7}, \\  b_{8}, \\  b_{9}, \\  b_{10}, \\  b_{11}\\right]$"
      ],
      "text/plain": [
       "[b₀, b₁, b₂, b₃, b₄, b₅, b₆, b₇, b₈, b₉, b₁₀, b₁₁]"
      ]
     },
     "metadata": {},
     "output_type": "display_data"
    },
    {
     "data": {
      "text/plain": [
       "'MATRICES:'"
      ]
     },
     "metadata": {},
     "output_type": "display_data"
    },
    {
     "data": {
      "text/plain": [
       "'A:'"
      ]
     },
     "metadata": {},
     "output_type": "display_data"
    },
    {
     "data": {
      "text/latex": [
       "$\\displaystyle \\left[\\begin{matrix}a_{0} & a_{1} & a_{2} & a_{3}\\\\a_{4} & a_{5} & a_{6} & a_{7}\\\\a_{8} & a_{9} & a_{10} & a_{11}\\\\0 & 0 & 0 & 1\\end{matrix}\\right]$"
      ],
      "text/plain": [
       "⎡a₀  a₁  a₂   a₃ ⎤\n",
       "⎢                ⎥\n",
       "⎢a₄  a₅  a₆   a₇ ⎥\n",
       "⎢                ⎥\n",
       "⎢a₈  a₉  a₁₀  a₁₁⎥\n",
       "⎢                ⎥\n",
       "⎣0   0    0    1 ⎦"
      ]
     },
     "metadata": {},
     "output_type": "display_data"
    },
    {
     "data": {
      "text/plain": [
       "'X:'"
      ]
     },
     "metadata": {},
     "output_type": "display_data"
    },
    {
     "data": {
      "text/latex": [
       "$\\displaystyle \\left[\\begin{matrix}x_{0} & x_{1} & x_{2} & x_{3}\\\\x_{4} & x_{5} & x_{6} & x_{7}\\\\x_{8} & x_{9} & x_{10} & x_{11}\\\\0 & 0 & 0 & 1\\end{matrix}\\right]$"
      ],
      "text/plain": [
       "⎡x₀  x₁  x₂   x₃ ⎤\n",
       "⎢                ⎥\n",
       "⎢x₄  x₅  x₆   x₇ ⎥\n",
       "⎢                ⎥\n",
       "⎢x₈  x₉  x₁₀  x₁₁⎥\n",
       "⎢                ⎥\n",
       "⎣0   0    0    1 ⎦"
      ]
     },
     "metadata": {},
     "output_type": "display_data"
    },
    {
     "data": {
      "text/plain": [
       "'Z:'"
      ]
     },
     "metadata": {},
     "output_type": "display_data"
    },
    {
     "data": {
      "text/latex": [
       "$\\displaystyle \\left[\\begin{matrix}z_{0} & z_{1} & z_{2} & z_{3}\\\\z_{4} & z_{5} & z_{6} & z_{7}\\\\z_{8} & z_{9} & z_{10} & z_{11}\\\\0 & 0 & 0 & 1\\end{matrix}\\right]$"
      ],
      "text/plain": [
       "⎡z₀  z₁  z₂   z₃ ⎤\n",
       "⎢                ⎥\n",
       "⎢z₄  z₅  z₆   z₇ ⎥\n",
       "⎢                ⎥\n",
       "⎢z₈  z₉  z₁₀  z₁₁⎥\n",
       "⎢                ⎥\n",
       "⎣0   0    0    1 ⎦"
      ]
     },
     "metadata": {},
     "output_type": "display_data"
    },
    {
     "data": {
      "text/plain": [
       "'B:'"
      ]
     },
     "metadata": {},
     "output_type": "display_data"
    },
    {
     "data": {
      "text/latex": [
       "$\\displaystyle \\left[\\begin{matrix}b_{0} & b_{1} & b_{2} & b_{3}\\\\b_{4} & b_{5} & b_{6} & b_{7}\\\\b_{8} & b_{9} & b_{10} & b_{11}\\\\0 & 0 & 0 & 1\\end{matrix}\\right]$"
      ],
      "text/plain": [
       "⎡b₀  b₁  b₂   b₃ ⎤\n",
       "⎢                ⎥\n",
       "⎢b₄  b₅  b₆   b₇ ⎥\n",
       "⎢                ⎥\n",
       "⎢b₈  b₉  b₁₀  b₁₁⎥\n",
       "⎢                ⎥\n",
       "⎣0   0    0    1 ⎦"
      ]
     },
     "metadata": {},
     "output_type": "display_data"
    },
    {
     "data": {
      "text/plain": [
       "'EQUATION:'"
      ]
     },
     "metadata": {},
     "output_type": "display_data"
    },
    {
     "data": {
      "text/latex": [
       "$\\displaystyle \\left[\\begin{matrix}a_{0} x_{0} + a_{1} x_{4} + a_{2} x_{8} - b_{0} z_{0} - b_{4} z_{1} - b_{8} z_{2} & a_{0} x_{1} + a_{1} x_{5} + a_{2} x_{9} - b_{1} z_{0} - b_{5} z_{1} - b_{9} z_{2} & a_{0} x_{2} + a_{1} x_{6} + a_{2} x_{10} - b_{10} z_{2} - b_{2} z_{0} - b_{6} z_{1} & a_{0} x_{3} + a_{1} x_{7} + a_{2} x_{11} + a_{3} - b_{11} z_{2} - b_{3} z_{0} - b_{7} z_{1} - z_{3}\\\\a_{4} x_{0} + a_{5} x_{4} + a_{6} x_{8} - b_{0} z_{4} - b_{4} z_{5} - b_{8} z_{6} & a_{4} x_{1} + a_{5} x_{5} + a_{6} x_{9} - b_{1} z_{4} - b_{5} z_{5} - b_{9} z_{6} & a_{4} x_{2} + a_{5} x_{6} + a_{6} x_{10} - b_{10} z_{6} - b_{2} z_{4} - b_{6} z_{5} & a_{4} x_{3} + a_{5} x_{7} + a_{6} x_{11} + a_{7} - b_{11} z_{6} - b_{3} z_{4} - b_{7} z_{5} - z_{7}\\\\a_{10} x_{8} + a_{8} x_{0} + a_{9} x_{4} - b_{0} z_{8} - b_{4} z_{9} - b_{8} z_{10} & a_{10} x_{9} + a_{8} x_{1} + a_{9} x_{5} - b_{1} z_{8} - b_{5} z_{9} - b_{9} z_{10} & a_{10} x_{10} + a_{8} x_{2} + a_{9} x_{6} - b_{10} z_{10} - b_{2} z_{8} - b_{6} z_{9} & a_{10} x_{11} + a_{11} + a_{8} x_{3} + a_{9} x_{7} - b_{11} z_{10} - b_{3} z_{8} - b_{7} z_{9} - z_{11}\\\\0 & 0 & 0 & 0\\end{matrix}\\right]$"
      ],
      "text/plain": [
       "⎡ a₀⋅x₀ + a₁⋅x₄ + a₂⋅x₈ - b₀⋅z₀ - b₄⋅z₁ - b₈⋅z₂    a₀⋅x₁ + a₁⋅x₅ + a₂⋅x₉ - b₁⋅\n",
       "⎢                                                                             \n",
       "⎢ a₄⋅x₀ + a₅⋅x₄ + a₆⋅x₈ - b₀⋅z₄ - b₄⋅z₅ - b₈⋅z₆    a₄⋅x₁ + a₅⋅x₅ + a₆⋅x₉ - b₁⋅\n",
       "⎢                                                                             \n",
       "⎢a₁₀⋅x₈ + a₈⋅x₀ + a₉⋅x₄ - b₀⋅z₈ - b₄⋅z₉ - b₈⋅z₁₀  a₁₀⋅x₉ + a₈⋅x₁ + a₉⋅x₅ - b₁⋅\n",
       "⎢                                                                             \n",
       "⎣                       0                                                0    \n",
       "\n",
       "z₀ - b₅⋅z₁ - b₉⋅z₂    a₀⋅x₂ + a₁⋅x₆ + a₂⋅x₁₀ - b₁₀⋅z₂ - b₂⋅z₀ - b₆⋅z₁     a₀⋅x\n",
       "                                                                              \n",
       "z₄ - b₅⋅z₅ - b₉⋅z₆    a₄⋅x₂ + a₅⋅x₆ + a₆⋅x₁₀ - b₁₀⋅z₆ - b₂⋅z₄ - b₆⋅z₅     a₄⋅x\n",
       "                                                                              \n",
       "z₈ - b₅⋅z₉ - b₉⋅z₁₀  a₁₀⋅x₁₀ + a₈⋅x₂ + a₉⋅x₆ - b₁₀⋅z₁₀ - b₂⋅z₈ - b₆⋅z₉  a₁₀⋅x₁\n",
       "                                                                              \n",
       "                                             0                                \n",
       "\n",
       "₃ + a₁⋅x₇ + a₂⋅x₁₁ + a₃ - b₁₁⋅z₂ - b₃⋅z₀ - b₇⋅z₁ - z₃  ⎤\n",
       "                                                       ⎥\n",
       "₃ + a₅⋅x₇ + a₆⋅x₁₁ + a₇ - b₁₁⋅z₆ - b₃⋅z₄ - b₇⋅z₅ - z₇  ⎥\n",
       "                                                       ⎥\n",
       "₁ + a₁₁ + a₈⋅x₃ + a₉⋅x₇ - b₁₁⋅z₁₀ - b₃⋅z₈ - b₇⋅z₉ - z₁₁⎥\n",
       "                                                       ⎥\n",
       "                        0                              ⎦"
      ]
     },
     "metadata": {},
     "output_type": "display_data"
    }
   ],
   "source": [
    "# AX = ZB\n",
    "symbolLetterTemplates = ['a', 'x', 'z', 'b']\n",
    "allSymbols = []\n",
    "\n",
    "# Creating 12 symbols for each matrix\n",
    "for template in symbolLetterTemplates:\n",
    "    allSymbols.append([sm.Symbol(template + str(i)) for i in range(3 * 4)])\n",
    "\n",
    "display('ALL SYMBOLS:')\n",
    "for symbols in allSymbols:\n",
    "    display(symbols)\n",
    "\n",
    "# Creating matrices from symbols\n",
    "symMatA = sm.Matrix([allSymbols[0][:4], allSymbols[0][4:8], allSymbols[0][8:12], [0, 0, 0, 1]])\n",
    "symMatX = sm.Matrix([allSymbols[1][:4], allSymbols[1][4:8], allSymbols[1][8:12], [0, 0, 0, 1]])\n",
    "symMatZ = sm.Matrix([allSymbols[2][:4], allSymbols[2][4:8], allSymbols[2][8:12], [0, 0, 0, 1]])\n",
    "symMatB = sm.Matrix([allSymbols[3][:4], allSymbols[3][4:8], allSymbols[3][8:12], [0, 0, 0, 1]])\n",
    "\n",
    "display('MATRICES:', 'A:', symMatA, 'X:', symMatX, 'Z:', symMatZ, 'B:', symMatB)\n",
    "\n",
    "matrixEquation = symMatA * symMatX - symMatZ * symMatB\n",
    "display('EQUATION:', matrixEquation)"
   ]
  },
  {
   "cell_type": "markdown",
   "id": "e1a87089d6accc67",
   "metadata": {},
   "source": [
    "# Creating Linear Least Square Matrix equation (Ax = b)"
   ]
  },
  {
   "cell_type": "code",
   "execution_count": 3,
   "id": "590a575e4fc7f5bc",
   "metadata": {
    "ExecuteTime": {
     "end_time": "2023-12-03T08:57:08.052756282Z",
     "start_time": "2023-12-03T08:57:07.968370785Z"
    }
   },
   "outputs": [
    {
     "data": {
      "text/plain": [
       "'Linear Equation:'"
      ]
     },
     "metadata": {},
     "output_type": "display_data"
    },
    {
     "data": {
      "text/plain": [
       "'A:'"
      ]
     },
     "metadata": {},
     "output_type": "display_data"
    },
    {
     "data": {
      "text/latex": [
       "$\\displaystyle \\left[\\begin{array}{cccccccccccccccccccccccc}a_{0} & 0 & 0 & 0 & a_{1} & 0 & 0 & 0 & a_{2} & 0 & 0 & 0 & - b_{0} & - b_{4} & - b_{8} & 0 & 0 & 0 & 0 & 0 & 0 & 0 & 0 & 0\\\\0 & a_{0} & 0 & 0 & 0 & a_{1} & 0 & 0 & 0 & a_{2} & 0 & 0 & - b_{1} & - b_{5} & - b_{9} & 0 & 0 & 0 & 0 & 0 & 0 & 0 & 0 & 0\\\\0 & 0 & a_{0} & 0 & 0 & 0 & a_{1} & 0 & 0 & 0 & a_{2} & 0 & - b_{2} & - b_{6} & - b_{10} & 0 & 0 & 0 & 0 & 0 & 0 & 0 & 0 & 0\\\\0 & 0 & 0 & a_{0} & 0 & 0 & 0 & a_{1} & 0 & 0 & 0 & a_{2} & - b_{3} & - b_{7} & - b_{11} & -1 & 0 & 0 & 0 & 0 & 0 & 0 & 0 & 0\\\\a_{4} & 0 & 0 & 0 & a_{5} & 0 & 0 & 0 & a_{6} & 0 & 0 & 0 & 0 & 0 & 0 & 0 & - b_{0} & - b_{4} & - b_{8} & 0 & 0 & 0 & 0 & 0\\\\0 & a_{4} & 0 & 0 & 0 & a_{5} & 0 & 0 & 0 & a_{6} & 0 & 0 & 0 & 0 & 0 & 0 & - b_{1} & - b_{5} & - b_{9} & 0 & 0 & 0 & 0 & 0\\\\0 & 0 & a_{4} & 0 & 0 & 0 & a_{5} & 0 & 0 & 0 & a_{6} & 0 & 0 & 0 & 0 & 0 & - b_{2} & - b_{6} & - b_{10} & 0 & 0 & 0 & 0 & 0\\\\0 & 0 & 0 & a_{4} & 0 & 0 & 0 & a_{5} & 0 & 0 & 0 & a_{6} & 0 & 0 & 0 & 0 & - b_{3} & - b_{7} & - b_{11} & -1 & 0 & 0 & 0 & 0\\\\a_{8} & 0 & 0 & 0 & a_{9} & 0 & 0 & 0 & a_{10} & 0 & 0 & 0 & 0 & 0 & 0 & 0 & 0 & 0 & 0 & 0 & - b_{0} & - b_{4} & - b_{8} & 0\\\\0 & a_{8} & 0 & 0 & 0 & a_{9} & 0 & 0 & 0 & a_{10} & 0 & 0 & 0 & 0 & 0 & 0 & 0 & 0 & 0 & 0 & - b_{1} & - b_{5} & - b_{9} & 0\\\\0 & 0 & a_{8} & 0 & 0 & 0 & a_{9} & 0 & 0 & 0 & a_{10} & 0 & 0 & 0 & 0 & 0 & 0 & 0 & 0 & 0 & - b_{2} & - b_{6} & - b_{10} & 0\\\\0 & 0 & 0 & a_{8} & 0 & 0 & 0 & a_{9} & 0 & 0 & 0 & a_{10} & 0 & 0 & 0 & 0 & 0 & 0 & 0 & 0 & - b_{3} & - b_{7} & - b_{11} & -1\\\\0 & 0 & 0 & 0 & 0 & 0 & 0 & 0 & 0 & 0 & 0 & 0 & 0 & 0 & 0 & 0 & 0 & 0 & 0 & 0 & 0 & 0 & 0 & 0\\\\0 & 0 & 0 & 0 & 0 & 0 & 0 & 0 & 0 & 0 & 0 & 0 & 0 & 0 & 0 & 0 & 0 & 0 & 0 & 0 & 0 & 0 & 0 & 0\\\\0 & 0 & 0 & 0 & 0 & 0 & 0 & 0 & 0 & 0 & 0 & 0 & 0 & 0 & 0 & 0 & 0 & 0 & 0 & 0 & 0 & 0 & 0 & 0\\\\0 & 0 & 0 & 0 & 0 & 0 & 0 & 0 & 0 & 0 & 0 & 0 & 0 & 0 & 0 & 0 & 0 & 0 & 0 & 0 & 0 & 0 & 0 & 0\\end{array}\\right]$"
      ],
      "text/plain": [
       "⎡a₀  0   0   0   a₁  0   0   0   a₂    0    0    0   -b₀  -b₄  -b₈   0    0   \n",
       "⎢                                                                             \n",
       "⎢0   a₀  0   0   0   a₁  0   0    0   a₂    0    0   -b₁  -b₅  -b₉   0    0   \n",
       "⎢                                                                             \n",
       "⎢0   0   a₀  0   0   0   a₁  0    0    0   a₂    0   -b₂  -b₆  -b₁₀  0    0   \n",
       "⎢                                                                             \n",
       "⎢0   0   0   a₀  0   0   0   a₁   0    0    0   a₂   -b₃  -b₇  -b₁₁  -1   0   \n",
       "⎢                                                                             \n",
       "⎢a₄  0   0   0   a₅  0   0   0   a₆    0    0    0    0    0    0    0   -b₀  \n",
       "⎢                                                                             \n",
       "⎢0   a₄  0   0   0   a₅  0   0    0   a₆    0    0    0    0    0    0   -b₁  \n",
       "⎢                                                                             \n",
       "⎢0   0   a₄  0   0   0   a₅  0    0    0   a₆    0    0    0    0    0   -b₂  \n",
       "⎢                                                                             \n",
       "⎢0   0   0   a₄  0   0   0   a₅   0    0    0   a₆    0    0    0    0   -b₃  \n",
       "⎢                                                                             \n",
       "⎢a₈  0   0   0   a₉  0   0   0   a₁₀   0    0    0    0    0    0    0    0   \n",
       "⎢                                                                             \n",
       "⎢0   a₈  0   0   0   a₉  0   0    0   a₁₀   0    0    0    0    0    0    0   \n",
       "⎢                                                                             \n",
       "⎢0   0   a₈  0   0   0   a₉  0    0    0   a₁₀   0    0    0    0    0    0   \n",
       "⎢                                                                             \n",
       "⎢0   0   0   a₈  0   0   0   a₉   0    0    0   a₁₀   0    0    0    0    0   \n",
       "⎢                                                                             \n",
       "⎢0   0   0   0   0   0   0   0    0    0    0    0    0    0    0    0    0   \n",
       "⎢                                                                             \n",
       "⎢0   0   0   0   0   0   0   0    0    0    0    0    0    0    0    0    0   \n",
       "⎢                                                                             \n",
       "⎢0   0   0   0   0   0   0   0    0    0    0    0    0    0    0    0    0   \n",
       "⎢                                                                             \n",
       "⎣0   0   0   0   0   0   0   0    0    0    0    0    0    0    0    0    0   \n",
       "\n",
       " 0    0    0    0    0    0    0 ⎤\n",
       "                                 ⎥\n",
       " 0    0    0    0    0    0    0 ⎥\n",
       "                                 ⎥\n",
       " 0    0    0    0    0    0    0 ⎥\n",
       "                                 ⎥\n",
       " 0    0    0    0    0    0    0 ⎥\n",
       "                                 ⎥\n",
       "-b₄  -b₈   0    0    0    0    0 ⎥\n",
       "                                 ⎥\n",
       "-b₅  -b₉   0    0    0    0    0 ⎥\n",
       "                                 ⎥\n",
       "-b₆  -b₁₀  0    0    0    0    0 ⎥\n",
       "                                 ⎥\n",
       "-b₇  -b₁₁  -1   0    0    0    0 ⎥\n",
       "                                 ⎥\n",
       " 0    0    0   -b₀  -b₄  -b₈   0 ⎥\n",
       "                                 ⎥\n",
       " 0    0    0   -b₁  -b₅  -b₉   0 ⎥\n",
       "                                 ⎥\n",
       " 0    0    0   -b₂  -b₆  -b₁₀  0 ⎥\n",
       "                                 ⎥\n",
       " 0    0    0   -b₃  -b₇  -b₁₁  -1⎥\n",
       "                                 ⎥\n",
       " 0    0    0    0    0    0    0 ⎥\n",
       "                                 ⎥\n",
       " 0    0    0    0    0    0    0 ⎥\n",
       "                                 ⎥\n",
       " 0    0    0    0    0    0    0 ⎥\n",
       "                                 ⎥\n",
       " 0    0    0    0    0    0    0 ⎦"
      ]
     },
     "metadata": {},
     "output_type": "display_data"
    },
    {
     "data": {
      "text/plain": [
       "'b:'"
      ]
     },
     "metadata": {},
     "output_type": "display_data"
    },
    {
     "data": {
      "text/latex": [
       "$\\displaystyle \\left[\\begin{matrix}0\\\\0\\\\0\\\\- a_{3}\\\\0\\\\0\\\\0\\\\- a_{7}\\\\0\\\\0\\\\0\\\\- a_{11}\\\\0\\\\0\\\\0\\\\0\\end{matrix}\\right]$"
      ],
      "text/plain": [
       "⎡ 0  ⎤\n",
       "⎢    ⎥\n",
       "⎢ 0  ⎥\n",
       "⎢    ⎥\n",
       "⎢ 0  ⎥\n",
       "⎢    ⎥\n",
       "⎢-a₃ ⎥\n",
       "⎢    ⎥\n",
       "⎢ 0  ⎥\n",
       "⎢    ⎥\n",
       "⎢ 0  ⎥\n",
       "⎢    ⎥\n",
       "⎢ 0  ⎥\n",
       "⎢    ⎥\n",
       "⎢-a₇ ⎥\n",
       "⎢    ⎥\n",
       "⎢ 0  ⎥\n",
       "⎢    ⎥\n",
       "⎢ 0  ⎥\n",
       "⎢    ⎥\n",
       "⎢ 0  ⎥\n",
       "⎢    ⎥\n",
       "⎢-a₁₁⎥\n",
       "⎢    ⎥\n",
       "⎢ 0  ⎥\n",
       "⎢    ⎥\n",
       "⎢ 0  ⎥\n",
       "⎢    ⎥\n",
       "⎢ 0  ⎥\n",
       "⎢    ⎥\n",
       "⎣ 0  ⎦"
      ]
     },
     "metadata": {},
     "output_type": "display_data"
    }
   ],
   "source": [
    "# Creating linear matrix equations\n",
    "leastsqMatA, leastsqMatb = sm.linear_eq_to_matrix(\n",
    "    matrixEquation,\n",
    "    [x for x in allSymbols[1]] + [z for z in allSymbols[2]]     # <<< Unknowns\n",
    ")\n",
    "\n",
    "display('Linear Equation:', 'A:', leastsqMatA, 'b:', leastsqMatb)"
   ]
  },
  {
   "cell_type": "markdown",
   "id": "45b650799675dac9",
   "metadata": {},
   "source": [
    "# Removing redundant rows"
   ]
  },
  {
   "cell_type": "code",
   "execution_count": 10,
   "id": "a72e2e0559aba0af",
   "metadata": {
    "ExecuteTime": {
     "end_time": "2023-12-03T08:58:43.183214919Z",
     "start_time": "2023-12-03T08:58:41.654124734Z"
    }
   },
   "outputs": [
    {
     "data": {
      "text/plain": [
       "'Minimal Linear Equation: '"
      ]
     },
     "metadata": {},
     "output_type": "display_data"
    },
    {
     "data": {
      "text/plain": [
       "'A:'"
      ]
     },
     "metadata": {},
     "output_type": "display_data"
    },
    {
     "data": {
      "text/latex": [
       "$\\displaystyle \\left[\\begin{array}{cccccccccccccccccccccccc}a_{0} & 0 & 0 & 0 & a_{1} & 0 & 0 & 0 & a_{2} & 0 & 0 & 0 & - b_{0} & - b_{4} & - b_{8} & 0 & 0 & 0 & 0 & 0 & 0 & 0 & 0 & 0\\\\0 & a_{0} & 0 & 0 & 0 & a_{1} & 0 & 0 & 0 & a_{2} & 0 & 0 & - b_{1} & - b_{5} & - b_{9} & 0 & 0 & 0 & 0 & 0 & 0 & 0 & 0 & 0\\\\0 & 0 & a_{0} & 0 & 0 & 0 & a_{1} & 0 & 0 & 0 & a_{2} & 0 & - b_{2} & - b_{6} & - b_{10} & 0 & 0 & 0 & 0 & 0 & 0 & 0 & 0 & 0\\\\0 & 0 & 0 & a_{0} & 0 & 0 & 0 & a_{1} & 0 & 0 & 0 & a_{2} & - b_{3} & - b_{7} & - b_{11} & -1 & 0 & 0 & 0 & 0 & 0 & 0 & 0 & 0\\\\a_{4} & 0 & 0 & 0 & a_{5} & 0 & 0 & 0 & a_{6} & 0 & 0 & 0 & 0 & 0 & 0 & 0 & - b_{0} & - b_{4} & - b_{8} & 0 & 0 & 0 & 0 & 0\\\\0 & a_{4} & 0 & 0 & 0 & a_{5} & 0 & 0 & 0 & a_{6} & 0 & 0 & 0 & 0 & 0 & 0 & - b_{1} & - b_{5} & - b_{9} & 0 & 0 & 0 & 0 & 0\\\\0 & 0 & a_{4} & 0 & 0 & 0 & a_{5} & 0 & 0 & 0 & a_{6} & 0 & 0 & 0 & 0 & 0 & - b_{2} & - b_{6} & - b_{10} & 0 & 0 & 0 & 0 & 0\\\\0 & 0 & 0 & a_{4} & 0 & 0 & 0 & a_{5} & 0 & 0 & 0 & a_{6} & 0 & 0 & 0 & 0 & - b_{3} & - b_{7} & - b_{11} & -1 & 0 & 0 & 0 & 0\\\\a_{8} & 0 & 0 & 0 & a_{9} & 0 & 0 & 0 & a_{10} & 0 & 0 & 0 & 0 & 0 & 0 & 0 & 0 & 0 & 0 & 0 & - b_{0} & - b_{4} & - b_{8} & 0\\\\0 & a_{8} & 0 & 0 & 0 & a_{9} & 0 & 0 & 0 & a_{10} & 0 & 0 & 0 & 0 & 0 & 0 & 0 & 0 & 0 & 0 & - b_{1} & - b_{5} & - b_{9} & 0\\\\0 & 0 & a_{8} & 0 & 0 & 0 & a_{9} & 0 & 0 & 0 & a_{10} & 0 & 0 & 0 & 0 & 0 & 0 & 0 & 0 & 0 & - b_{2} & - b_{6} & - b_{10} & 0\\\\0 & 0 & 0 & a_{8} & 0 & 0 & 0 & a_{9} & 0 & 0 & 0 & a_{10} & 0 & 0 & 0 & 0 & 0 & 0 & 0 & 0 & - b_{3} & - b_{7} & - b_{11} & -1\\end{array}\\right]$"
      ],
      "text/plain": [
       "⎡a₀  0   0   0   a₁  0   0   0   a₂    0    0    0   -b₀  -b₄  -b₈   0    0   \n",
       "⎢                                                                             \n",
       "⎢0   a₀  0   0   0   a₁  0   0    0   a₂    0    0   -b₁  -b₅  -b₉   0    0   \n",
       "⎢                                                                             \n",
       "⎢0   0   a₀  0   0   0   a₁  0    0    0   a₂    0   -b₂  -b₆  -b₁₀  0    0   \n",
       "⎢                                                                             \n",
       "⎢0   0   0   a₀  0   0   0   a₁   0    0    0   a₂   -b₃  -b₇  -b₁₁  -1   0   \n",
       "⎢                                                                             \n",
       "⎢a₄  0   0   0   a₅  0   0   0   a₆    0    0    0    0    0    0    0   -b₀  \n",
       "⎢                                                                             \n",
       "⎢0   a₄  0   0   0   a₅  0   0    0   a₆    0    0    0    0    0    0   -b₁  \n",
       "⎢                                                                             \n",
       "⎢0   0   a₄  0   0   0   a₅  0    0    0   a₆    0    0    0    0    0   -b₂  \n",
       "⎢                                                                             \n",
       "⎢0   0   0   a₄  0   0   0   a₅   0    0    0   a₆    0    0    0    0   -b₃  \n",
       "⎢                                                                             \n",
       "⎢a₈  0   0   0   a₉  0   0   0   a₁₀   0    0    0    0    0    0    0    0   \n",
       "⎢                                                                             \n",
       "⎢0   a₈  0   0   0   a₉  0   0    0   a₁₀   0    0    0    0    0    0    0   \n",
       "⎢                                                                             \n",
       "⎢0   0   a₈  0   0   0   a₉  0    0    0   a₁₀   0    0    0    0    0    0   \n",
       "⎢                                                                             \n",
       "⎣0   0   0   a₈  0   0   0   a₉   0    0    0   a₁₀   0    0    0    0    0   \n",
       "\n",
       " 0    0    0    0    0    0    0 ⎤\n",
       "                                 ⎥\n",
       " 0    0    0    0    0    0    0 ⎥\n",
       "                                 ⎥\n",
       " 0    0    0    0    0    0    0 ⎥\n",
       "                                 ⎥\n",
       " 0    0    0    0    0    0    0 ⎥\n",
       "                                 ⎥\n",
       "-b₄  -b₈   0    0    0    0    0 ⎥\n",
       "                                 ⎥\n",
       "-b₅  -b₉   0    0    0    0    0 ⎥\n",
       "                                 ⎥\n",
       "-b₆  -b₁₀  0    0    0    0    0 ⎥\n",
       "                                 ⎥\n",
       "-b₇  -b₁₁  -1   0    0    0    0 ⎥\n",
       "                                 ⎥\n",
       " 0    0    0   -b₀  -b₄  -b₈   0 ⎥\n",
       "                                 ⎥\n",
       " 0    0    0   -b₁  -b₅  -b₉   0 ⎥\n",
       "                                 ⎥\n",
       " 0    0    0   -b₂  -b₆  -b₁₀  0 ⎥\n",
       "                                 ⎥\n",
       " 0    0    0   -b₃  -b₇  -b₁₁  -1⎦"
      ]
     },
     "metadata": {},
     "output_type": "display_data"
    },
    {
     "data": {
      "text/plain": [
       "'Rank A:'"
      ]
     },
     "metadata": {},
     "output_type": "display_data"
    },
    {
     "data": {
      "image/png": "[encoded data removed]",
      "text/latex": [
       "$\\displaystyle 12$"
      ],
      "text/plain": [
       "12"
      ]
     },
     "metadata": {},
     "output_type": "display_data"
    },
    {
     "data": {
      "text/plain": [
       "'b:'"
      ]
     },
     "metadata": {},
     "output_type": "display_data"
    },
    {
     "data": {
      "text/latex": [
       "$\\displaystyle \\left[\\begin{array}{cccccccccccccccccccccccc}a_{0} & 0 & 0 & 0 & a_{1} & 0 & 0 & 0 & a_{2} & 0 & 0 & 0 & - b_{0} & - b_{4} & - b_{8} & 0 & 0 & 0 & 0 & 0 & 0 & 0 & 0 & 0\\\\0 & a_{0} & 0 & 0 & 0 & a_{1} & 0 & 0 & 0 & a_{2} & 0 & 0 & - b_{1} & - b_{5} & - b_{9} & 0 & 0 & 0 & 0 & 0 & 0 & 0 & 0 & 0\\\\0 & 0 & a_{0} & 0 & 0 & 0 & a_{1} & 0 & 0 & 0 & a_{2} & 0 & - b_{2} & - b_{6} & - b_{10} & 0 & 0 & 0 & 0 & 0 & 0 & 0 & 0 & 0\\\\0 & 0 & 0 & a_{0} & 0 & 0 & 0 & a_{1} & 0 & 0 & 0 & a_{2} & - b_{3} & - b_{7} & - b_{11} & -1 & 0 & 0 & 0 & 0 & 0 & 0 & 0 & 0\\\\a_{4} & 0 & 0 & 0 & a_{5} & 0 & 0 & 0 & a_{6} & 0 & 0 & 0 & 0 & 0 & 0 & 0 & - b_{0} & - b_{4} & - b_{8} & 0 & 0 & 0 & 0 & 0\\\\0 & a_{4} & 0 & 0 & 0 & a_{5} & 0 & 0 & 0 & a_{6} & 0 & 0 & 0 & 0 & 0 & 0 & - b_{1} & - b_{5} & - b_{9} & 0 & 0 & 0 & 0 & 0\\\\0 & 0 & a_{4} & 0 & 0 & 0 & a_{5} & 0 & 0 & 0 & a_{6} & 0 & 0 & 0 & 0 & 0 & - b_{2} & - b_{6} & - b_{10} & 0 & 0 & 0 & 0 & 0\\\\0 & 0 & 0 & a_{4} & 0 & 0 & 0 & a_{5} & 0 & 0 & 0 & a_{6} & 0 & 0 & 0 & 0 & - b_{3} & - b_{7} & - b_{11} & -1 & 0 & 0 & 0 & 0\\\\a_{8} & 0 & 0 & 0 & a_{9} & 0 & 0 & 0 & a_{10} & 0 & 0 & 0 & 0 & 0 & 0 & 0 & 0 & 0 & 0 & 0 & - b_{0} & - b_{4} & - b_{8} & 0\\\\0 & a_{8} & 0 & 0 & 0 & a_{9} & 0 & 0 & 0 & a_{10} & 0 & 0 & 0 & 0 & 0 & 0 & 0 & 0 & 0 & 0 & - b_{1} & - b_{5} & - b_{9} & 0\\\\0 & 0 & a_{8} & 0 & 0 & 0 & a_{9} & 0 & 0 & 0 & a_{10} & 0 & 0 & 0 & 0 & 0 & 0 & 0 & 0 & 0 & - b_{2} & - b_{6} & - b_{10} & 0\\\\0 & 0 & 0 & a_{8} & 0 & 0 & 0 & a_{9} & 0 & 0 & 0 & a_{10} & 0 & 0 & 0 & 0 & 0 & 0 & 0 & 0 & - b_{3} & - b_{7} & - b_{11} & -1\\end{array}\\right]$"
      ],
      "text/plain": [
       "⎡a₀  0   0   0   a₁  0   0   0   a₂    0    0    0   -b₀  -b₄  -b₈   0    0   \n",
       "⎢                                                                             \n",
       "⎢0   a₀  0   0   0   a₁  0   0    0   a₂    0    0   -b₁  -b₅  -b₉   0    0   \n",
       "⎢                                                                             \n",
       "⎢0   0   a₀  0   0   0   a₁  0    0    0   a₂    0   -b₂  -b₆  -b₁₀  0    0   \n",
       "⎢                                                                             \n",
       "⎢0   0   0   a₀  0   0   0   a₁   0    0    0   a₂   -b₃  -b₇  -b₁₁  -1   0   \n",
       "⎢                                                                             \n",
       "⎢a₄  0   0   0   a₅  0   0   0   a₆    0    0    0    0    0    0    0   -b₀  \n",
       "⎢                                                                             \n",
       "⎢0   a₄  0   0   0   a₅  0   0    0   a₆    0    0    0    0    0    0   -b₁  \n",
       "⎢                                                                             \n",
       "⎢0   0   a₄  0   0   0   a₅  0    0    0   a₆    0    0    0    0    0   -b₂  \n",
       "⎢                                                                             \n",
       "⎢0   0   0   a₄  0   0   0   a₅   0    0    0   a₆    0    0    0    0   -b₃  \n",
       "⎢                                                                             \n",
       "⎢a₈  0   0   0   a₉  0   0   0   a₁₀   0    0    0    0    0    0    0    0   \n",
       "⎢                                                                             \n",
       "⎢0   a₈  0   0   0   a₉  0   0    0   a₁₀   0    0    0    0    0    0    0   \n",
       "⎢                                                                             \n",
       "⎢0   0   a₈  0   0   0   a₉  0    0    0   a₁₀   0    0    0    0    0    0   \n",
       "⎢                                                                             \n",
       "⎣0   0   0   a₈  0   0   0   a₉   0    0    0   a₁₀   0    0    0    0    0   \n",
       "\n",
       " 0    0    0    0    0    0    0 ⎤\n",
       "                                 ⎥\n",
       " 0    0    0    0    0    0    0 ⎥\n",
       "                                 ⎥\n",
       " 0    0    0    0    0    0    0 ⎥\n",
       "                                 ⎥\n",
       " 0    0    0    0    0    0    0 ⎥\n",
       "                                 ⎥\n",
       "-b₄  -b₈   0    0    0    0    0 ⎥\n",
       "                                 ⎥\n",
       "-b₅  -b₉   0    0    0    0    0 ⎥\n",
       "                                 ⎥\n",
       "-b₆  -b₁₀  0    0    0    0    0 ⎥\n",
       "                                 ⎥\n",
       "-b₇  -b₁₁  -1   0    0    0    0 ⎥\n",
       "                                 ⎥\n",
       " 0    0    0   -b₀  -b₄  -b₈   0 ⎥\n",
       "                                 ⎥\n",
       " 0    0    0   -b₁  -b₅  -b₉   0 ⎥\n",
       "                                 ⎥\n",
       " 0    0    0   -b₂  -b₆  -b₁₀  0 ⎥\n",
       "                                 ⎥\n",
       " 0    0    0   -b₃  -b₇  -b₁₁  -1⎦"
      ]
     },
     "metadata": {},
     "output_type": "display_data"
    }
   ],
   "source": [
    "reducedLsqMatA = sm.Matrix(leastsqMatA[:-4, :])\n",
    "reducedLsqMatb = sm.Matrix(leastsqMatb[:-4])\n",
    "display('Minimal Linear Equation: ', 'A:', reducedLsqMatA, 'Rank A:', reducedLsqMatA.rank(), 'b:', reducedLsqMatA)"
   ]
  },
  {
   "cell_type": "markdown",
   "id": "7572c87c39473593",
   "metadata": {},
   "source": [
    "# Reducing the linear least squares equation down to the basics"
   ]
  },
  {
   "cell_type": "code",
   "execution_count": 11,
   "id": "fbb3b675f4031511",
   "metadata": {
    "ExecuteTime": {
     "end_time": "2023-12-03T08:58:47.236524232Z",
     "start_time": "2023-12-03T08:58:47.200544968Z"
    }
   },
   "outputs": [
    {
     "data": {
      "text/latex": [
       "$\\displaystyle \\left[\\begin{array}{cccccccccccccccccccccccc}a_{0} & 0 & 0 & 0 & a_{1} & 0 & 0 & 0 & a_{2} & 0 & 0 & 0 & - b_{0} & - b_{4} & - b_{8} & 0 & 0 & 0 & 0 & 0 & 0 & 0 & 0 & 0\\\\0 & a_{0} & 0 & 0 & 0 & a_{1} & 0 & 0 & 0 & a_{2} & 0 & 0 & - b_{1} & - b_{5} & - b_{9} & 0 & 0 & 0 & 0 & 0 & 0 & 0 & 0 & 0\\\\0 & 0 & a_{0} & 0 & 0 & 0 & a_{1} & 0 & 0 & 0 & a_{2} & 0 & - b_{2} & - b_{6} & - b_{10} & 0 & 0 & 0 & 0 & 0 & 0 & 0 & 0 & 0\\\\0 & 0 & 0 & a_{0} & 0 & 0 & 0 & a_{1} & 0 & 0 & 0 & a_{2} & - b_{3} & - b_{7} & - b_{11} & -1 & 0 & 0 & 0 & 0 & 0 & 0 & 0 & 0\\\\a_{4} & 0 & 0 & 0 & a_{5} & 0 & 0 & 0 & a_{6} & 0 & 0 & 0 & 0 & 0 & 0 & 0 & - b_{0} & - b_{4} & - b_{8} & 0 & 0 & 0 & 0 & 0\\\\0 & a_{4} & 0 & 0 & 0 & a_{5} & 0 & 0 & 0 & a_{6} & 0 & 0 & 0 & 0 & 0 & 0 & - b_{1} & - b_{5} & - b_{9} & 0 & 0 & 0 & 0 & 0\\\\0 & 0 & a_{4} & 0 & 0 & 0 & a_{5} & 0 & 0 & 0 & a_{6} & 0 & 0 & 0 & 0 & 0 & - b_{2} & - b_{6} & - b_{10} & 0 & 0 & 0 & 0 & 0\\\\0 & 0 & 0 & a_{4} & 0 & 0 & 0 & a_{5} & 0 & 0 & 0 & a_{6} & 0 & 0 & 0 & 0 & - b_{3} & - b_{7} & - b_{11} & -1 & 0 & 0 & 0 & 0\\\\a_{8} & 0 & 0 & 0 & a_{9} & 0 & 0 & 0 & a_{10} & 0 & 0 & 0 & 0 & 0 & 0 & 0 & 0 & 0 & 0 & 0 & - b_{0} & - b_{4} & - b_{8} & 0\\\\0 & a_{8} & 0 & 0 & 0 & a_{9} & 0 & 0 & 0 & a_{10} & 0 & 0 & 0 & 0 & 0 & 0 & 0 & 0 & 0 & 0 & - b_{1} & - b_{5} & - b_{9} & 0\\\\0 & 0 & a_{8} & 0 & 0 & 0 & a_{9} & 0 & 0 & 0 & a_{10} & 0 & 0 & 0 & 0 & 0 & 0 & 0 & 0 & 0 & - b_{2} & - b_{6} & - b_{10} & 0\\\\0 & 0 & 0 & a_{8} & 0 & 0 & 0 & a_{9} & 0 & 0 & 0 & a_{10} & 0 & 0 & 0 & 0 & 0 & 0 & 0 & 0 & - b_{3} & - b_{7} & - b_{11} & -1\\end{array}\\right]$"
      ],
      "text/plain": [
       "⎡a₀  0   0   0   a₁  0   0   0   a₂    0    0    0   -b₀  -b₄  -b₈   0    0   \n",
       "⎢                                                                             \n",
       "⎢0   a₀  0   0   0   a₁  0   0    0   a₂    0    0   -b₁  -b₅  -b₉   0    0   \n",
       "⎢                                                                             \n",
       "⎢0   0   a₀  0   0   0   a₁  0    0    0   a₂    0   -b₂  -b₆  -b₁₀  0    0   \n",
       "⎢                                                                             \n",
       "⎢0   0   0   a₀  0   0   0   a₁   0    0    0   a₂   -b₃  -b₇  -b₁₁  -1   0   \n",
       "⎢                                                                             \n",
       "⎢a₄  0   0   0   a₅  0   0   0   a₆    0    0    0    0    0    0    0   -b₀  \n",
       "⎢                                                                             \n",
       "⎢0   a₄  0   0   0   a₅  0   0    0   a₆    0    0    0    0    0    0   -b₁  \n",
       "⎢                                                                             \n",
       "⎢0   0   a₄  0   0   0   a₅  0    0    0   a₆    0    0    0    0    0   -b₂  \n",
       "⎢                                                                             \n",
       "⎢0   0   0   a₄  0   0   0   a₅   0    0    0   a₆    0    0    0    0   -b₃  \n",
       "⎢                                                                             \n",
       "⎢a₈  0   0   0   a₉  0   0   0   a₁₀   0    0    0    0    0    0    0    0   \n",
       "⎢                                                                             \n",
       "⎢0   a₈  0   0   0   a₉  0   0    0   a₁₀   0    0    0    0    0    0    0   \n",
       "⎢                                                                             \n",
       "⎢0   0   a₈  0   0   0   a₉  0    0    0   a₁₀   0    0    0    0    0    0   \n",
       "⎢                                                                             \n",
       "⎣0   0   0   a₈  0   0   0   a₉   0    0    0   a₁₀   0    0    0    0    0   \n",
       "\n",
       " 0    0    0    0    0    0    0 ⎤\n",
       "                                 ⎥\n",
       " 0    0    0    0    0    0    0 ⎥\n",
       "                                 ⎥\n",
       " 0    0    0    0    0    0    0 ⎥\n",
       "                                 ⎥\n",
       " 0    0    0    0    0    0    0 ⎥\n",
       "                                 ⎥\n",
       "-b₄  -b₈   0    0    0    0    0 ⎥\n",
       "                                 ⎥\n",
       "-b₅  -b₉   0    0    0    0    0 ⎥\n",
       "                                 ⎥\n",
       "-b₆  -b₁₀  0    0    0    0    0 ⎥\n",
       "                                 ⎥\n",
       "-b₇  -b₁₁  -1   0    0    0    0 ⎥\n",
       "                                 ⎥\n",
       " 0    0    0   -b₀  -b₄  -b₈   0 ⎥\n",
       "                                 ⎥\n",
       " 0    0    0   -b₁  -b₅  -b₉   0 ⎥\n",
       "                                 ⎥\n",
       " 0    0    0   -b₂  -b₆  -b₁₀  0 ⎥\n",
       "                                 ⎥\n",
       " 0    0    0   -b₃  -b₇  -b₁₁  -1⎦"
      ]
     },
     "metadata": {},
     "output_type": "display_data"
    },
    {
     "data": {
      "text/latex": [
       "$\\displaystyle \\left[\\begin{matrix}0\\\\0\\\\0\\\\- a_{3}\\\\0\\\\0\\\\0\\\\- a_{7}\\\\0\\\\0\\\\0\\\\- a_{11}\\end{matrix}\\right]$"
      ],
      "text/plain": [
       "⎡ 0  ⎤\n",
       "⎢    ⎥\n",
       "⎢ 0  ⎥\n",
       "⎢    ⎥\n",
       "⎢ 0  ⎥\n",
       "⎢    ⎥\n",
       "⎢-a₃ ⎥\n",
       "⎢    ⎥\n",
       "⎢ 0  ⎥\n",
       "⎢    ⎥\n",
       "⎢ 0  ⎥\n",
       "⎢    ⎥\n",
       "⎢ 0  ⎥\n",
       "⎢    ⎥\n",
       "⎢-a₇ ⎥\n",
       "⎢    ⎥\n",
       "⎢ 0  ⎥\n",
       "⎢    ⎥\n",
       "⎢ 0  ⎥\n",
       "⎢    ⎥\n",
       "⎢ 0  ⎥\n",
       "⎢    ⎥\n",
       "⎣-a₁₁⎦"
      ]
     },
     "metadata": {},
     "output_type": "display_data"
    }
   ],
   "source": [
    "symLHS = sm.kronecker_product(symMatA[:3, :3], sm.eye(4)).row_join(sm.kronecker_product(-sm.eye(3), symMatB.T))\n",
    "symRHS = sm.kronecker_product(symMatA[:3, -1], -sm.Matrix([0, 0, 0, 1]))\n",
    "\n",
    "display(symLHS)\n",
    "display(symRHS)\n"
   ]
  },
  {
   "cell_type": "code",
   "execution_count": 12,
   "id": "5be93b707ca5676",
   "metadata": {
    "ExecuteTime": {
     "end_time": "2023-12-03T08:58:51.310943736Z",
     "start_time": "2023-12-03T08:58:51.304889472Z"
    }
   },
   "outputs": [
    {
     "data": {
      "text/plain": [
       "True"
      ]
     },
     "execution_count": 12,
     "metadata": {},
     "output_type": "execute_result"
    }
   ],
   "source": [
    "# Verify if the euqations match\n",
    "reducedLsqMatA == symLHS"
   ]
  },
  {
   "cell_type": "code",
   "execution_count": 52,
   "id": "e05ea8cc8d675938",
   "metadata": {
    "ExecuteTime": {
     "end_time": "2023-12-03T11:57:54.302009856Z",
     "start_time": "2023-12-03T11:57:54.163844806Z"
    }
   },
   "outputs": [
    {
     "data": {
      "text/latex": [
       "$\\displaystyle \\left[\\begin{matrix}R_{a} \\otimes I_{4} & - I_{3} \\otimes B^{T}\\end{matrix}\\right] \\left[\\begin{matrix}vec(X)_{12,1}\\\\vec(Z)_{12,1}\\end{matrix}\\right] = t_{a} \\otimes \\left[\\begin{matrix}0\\\\0\\\\0\\\\-1\\end{matrix}\\right]$"
      ],
      "text/plain": [
       "                                           ⎡0 ⎤\n",
       "                                           ⎢  ⎥\n",
       "⎡          ⎛      T⎞⎤ ⎡vec(X)_12,1⎤        ⎢0 ⎥\n",
       "⎣Rₐ ⨂ I₄  -⎝I₃ ⨂ B ⎠⎦⋅⎢           ⎥ = tₐ ⨂ ⎢  ⎥\n",
       "                      ⎣vec(Z)_12,1⎦        ⎢0 ⎥\n",
       "                                           ⎢  ⎥\n",
       "                                           ⎣-1⎦"
      ]
     },
     "metadata": {},
     "output_type": "display_data"
    }
   ],
   "source": [
    "Ra = sm.MatrixSymbol('R_a', 3, 3)\n",
    "ta = sm.MatrixSymbol('t_a', 3, 1)\n",
    "B = sm.MatrixSymbol('B', 4, 4)\n",
    "I3 = sm.MatrixSymbol('I_3', 3, 3)\n",
    "I4 = sm.MatrixSymbol('I_4', 4, 4)\n",
    "xVec = sm.MatrixSymbol('vec(X)_12,1', 12, 1)\n",
    "zVec = sm.MatrixSymbol('vec(Z)_12,1', 12, 1)\n",
    "\n",
    "cuteEquationLHS = sm.BlockMatrix([\n",
    "    sm.kronecker_product(Ra, I4),\n",
    "    sm.kronecker_product(-I3, B.T)\n",
    "]) * sm.BlockMatrix([\n",
    "    [xVec],\n",
    "    [zVec]\n",
    "])\n",
    "\n",
    "\n",
    "cuteEquationRHS = sm.kronecker_product(ta, sm.Matrix([0, 0, 0, -1]))\n",
    "\n",
    "cuteEquation = sm.Eq(cuteEquationLHS, cuteEquationRHS)\n",
    "\n",
    "display(cuteEquation)"
   ]
  },
  {
   "cell_type": "code",
   "execution_count": 13,
   "id": "e5c1194679f2adc3",
   "metadata": {
    "ExecuteTime": {
     "end_time": "2023-12-03T08:59:21.430593524Z",
     "start_time": "2023-12-03T08:59:21.384953122Z"
    }
   },
   "outputs": [
    {
     "name": "stdout",
     "output_type": "stream",
     "text": [
      "[[ 0.80840207  0.56794484  0.15467627 -2.36277745]\n",
      " [-0.28961819  0.61253822 -0.73547144 -1.07554431]\n",
      " [-0.51245233  0.54975958  0.65966432  2.50785386]\n",
      " [ 0.          0.          0.          1.        ]] [[ 0.80840207  0.56794484  0.15467627 -2.95589595]\n",
      " [ 0.28961819 -0.61253822  0.73547144  5.33975038]\n",
      " [ 0.51245233 -0.54975958 -0.65966432  4.93342701]\n",
      " [ 0.          0.          0.          1.        ]]\n",
      "[[ 0.61564296  0.29215065  0.73186867 -1.71382338]\n",
      " [ 0.04372455  0.91464256 -0.40189196  2.14211788]\n",
      " [-0.78681123  0.27942259  0.55031909  4.36360761]\n",
      " [ 0.          0.          0.          1.        ]] [[ 0.61564296  0.29215065  0.73186867 -1.32286969]\n",
      " [-0.04372455 -0.91464256  0.40189196  0.19564461]\n",
      " [ 0.78681123 -0.27942259 -0.55031909  4.21603153]\n",
      " [ 0.          0.          0.          1.        ]]\n",
      "[[ 0.54095521  0.38755168 -0.74643898 -3.3567512 ]\n",
      " [-0.35650036  0.90949242  0.21384813  2.65596225]\n",
      " [ 0.7617578   0.15042351  0.63015698  2.53334434]\n",
      " [ 0.          0.          0.          1.        ]] [[ 0.54095521  0.38755168 -0.74643898 -7.28054601]\n",
      " [ 0.35650036 -0.90949242 -0.21384813 -1.75700827]\n",
      " [-0.7617578  -0.15042351 -0.63015698  4.51383441]\n",
      " [ 0.          0.          0.          1.        ]]\n",
      "[[ 0.67867283  0.71920037 -0.14884225  4.609944  ]\n",
      " [-0.68250326  0.54273541 -0.4895177   2.27660907]\n",
      " [-0.27127935  0.43380768  0.85919637  3.06036603]\n",
      " [ 0.          0.          0.          1.        ]] [[ 0.67867283  0.71920037 -0.14884225  3.28721553]\n",
      " [ 0.68250326 -0.54273541  0.4895177   1.78671086]\n",
      " [ 0.27127935 -0.43380768 -0.85919637  3.75919026]\n",
      " [ 0.          0.          0.          1.        ]]\n",
      "[[ 0.73404577  0.67843428 -0.03006216  0.73385613]\n",
      " [-0.50789137  0.57783246  0.63887089  0.33392329]\n",
      " [ 0.4508028  -0.45369216  0.76872639 -2.17236756]\n",
      " [ 0.          0.          0.          1.        ]] [[ 0.73404577  0.67843428 -0.03006216 -0.26532191]\n",
      " [ 0.50789137 -0.57783246 -0.63887089  0.09316117]\n",
      " [-0.4508028   0.45369216 -0.76872639 10.32295209]\n",
      " [ 0.          0.          0.          1.        ]]\n",
      "[[ 0.77338203 -0.63387433  0.00914147  3.30358182]\n",
      " [ 0.46107388  0.57232997  0.67812188  3.84372053]\n",
      " [-0.43507599 -0.52023238  0.73489261  0.94900061]\n",
      " [ 0.          0.          0.          1.        ]] [[ 0.77338203 -0.63387433  0.00914147 -0.16869324]\n",
      " [-0.46107388 -0.57232997 -0.67812188 -4.48538532]\n",
      " [ 0.43507599  0.52023238 -0.73489261  8.31416505]\n",
      " [ 0.          0.          0.          1.        ]]\n",
      "[[ 0.73816988  0.58662416  0.33313259  0.97616345]\n",
      " [-0.66467979  0.54800023  0.50783512 -1.58120044]\n",
      " [ 0.11535162 -0.59629509  0.79443449 -4.15975289]\n",
      " [ 0.          0.          0.          1.        ]] [[ 0.73816988  0.58662416  0.33313259  0.89426629]\n",
      " [ 0.66467979 -0.54800023 -0.50783512  2.624197  ]\n",
      " [-0.11535162  0.59629509 -0.79443449 12.84803042]\n",
      " [ 0.          0.          0.          1.        ]]\n",
      "[[ 0.54335993  0.37334457 -0.75191344 -3.11266394]\n",
      " [-0.30499619  0.92225799  0.23752375 -1.03808508]\n",
      " [ 0.78213638  0.10026985  0.6149867  -2.65567296]\n",
      " [ 0.          0.          0.          1.        ]] [[ 0.54335993  0.37334457 -0.75191344 -7.07395864]\n",
      " [ 0.30499619 -0.92225799 -0.23752375  1.79545652]\n",
      " [-0.78213638 -0.10026985 -0.6149867   9.82408695]\n",
      " [ 0.          0.          0.          1.        ]]\n",
      "[[ 0.72177108 -0.39627633  0.56746064  2.09485119]\n",
      " [ 0.66123716  0.637019   -0.39619719  2.47047114]\n",
      " [-0.20447964  0.66118973  0.72181453 -0.85803498]\n",
      " [ 0.          0.          0.          1.        ]] [[ 0.72177108 -0.39627633  0.56746064  0.71734437]\n",
      " [-0.66123716 -0.637019    0.39619719 -0.22584618]\n",
      " [ 0.20447964 -0.66118973 -0.72181453  7.5676814 ]\n",
      " [ 0.          0.          0.          1.        ]]\n",
      "[[ 0.82778203 -0.01664607 -0.56080284  4.28373726]\n",
      " [-0.39693066  0.6890482  -0.6063486  -2.23659211]\n",
      " [ 0.39651351  0.72452431  0.56377438  3.599554  ]\n",
      " [ 0.          0.          0.          1.        ]] [[ 0.82778203 -0.01664607 -0.56080284  0.40055411]\n",
      " [ 0.39693066 -0.6890482   0.6063486   6.06883871]\n",
      " [-0.39651351 -0.72452431 -0.56377438  2.87068387]\n",
      " [ 0.          0.          0.          1.        ]]\n"
     ]
    }
   ],
   "source": [
    "# Creating dummy dataset\n",
    "gtAs = []\n",
    "gtBs = []\n",
    "gtX = np.eye(4, dtype=float)\n",
    "gtX[:3, -1] = [1, 2, 3]\n",
    "\n",
    "gtZ = np.eye(4, dtype=float)\n",
    "gtZ[:3, -1] = [3, 3, 10]\n",
    "gtZ[:3, 2] *= -1   # z-Looking down\n",
    "gtZ[:3, 1] *= -1   # Looking down\n",
    "\n",
    "numsamples = 10\n",
    "\n",
    "for i in range(numsamples):\n",
    "    r = 2 * (np.random.rand(3) - 0.5) * 2 * np.pi\n",
    "    r /= np.linalg.norm(r)\n",
    "    t = 2 * (np.random.rand(3) - 0.5) * 5\n",
    "    \n",
    "    T = np.eye(4)\n",
    "    T[:3, :3] = transform.Rotation.from_rotvec(r).as_matrix()\n",
    "    T[:3, -1] = t\n",
    "    \n",
    "    gtAs.append(T.copy())\n",
    "    \n",
    "    attachedObjectInStatic = np.dot(np.dot(np.linalg.inv(gtZ), T.copy()), gtX)\n",
    "    attachedObjectInStatic[:3, -1] += 2.0 * (np.random.rand(3) - 0.5) * 0.01\n",
    "    gtBs.append(attachedObjectInStatic)\n",
    "    \n",
    "    print(T, attachedObjectInStatic)\n"
   ]
  },
  {
   "cell_type": "code",
   "execution_count": 14,
   "id": "2df5d6fe530c9d44",
   "metadata": {
    "ExecuteTime": {
     "end_time": "2023-12-03T08:59:25.664442797Z",
     "start_time": "2023-12-03T08:59:25.622376583Z"
    }
   },
   "outputs": [],
   "source": [
    "# Formulating least squares from dataset\n",
    "lhs = []\n",
    "rhs = []\n",
    "for i in range(numsamples):\n",
    "    lhs.append(\n",
    "        np.hstack([np.kron(gtAs[i][:3, :3], np.eye(4)), np.kron(-np.eye(3), gtBs[i].T)])\n",
    "    )\n",
    "    rhs.append(\n",
    "        np.kron(gtAs[i][:3, -1], [0, 0, 0, -1])\n",
    "    )\n",
    "    \n",
    "lhs = np.vstack(lhs)\n",
    "rhs = np.hstack(rhs)"
   ]
  },
  {
   "cell_type": "code",
   "execution_count": 15,
   "id": "e972ca95bd99f5d6",
   "metadata": {
    "ExecuteTime": {
     "end_time": "2023-12-03T08:59:28.373963131Z",
     "start_time": "2023-12-03T08:59:28.360744862Z"
    }
   },
   "outputs": [
    {
     "name": "stdout",
     "output_type": "stream",
     "text": [
      "SOLUTION:\n",
      "[[ 1.00023409  0.00033743  0.00000271  1.00128298]\n",
      " [-0.00075093  1.00004801  0.00079284  2.00391593]\n",
      " [-0.00004894 -0.00078357  1.00045483  2.99555519]\n",
      " [ 0.          0.          0.          1.        ]]\n",
      "[[ 0.99961512 -0.00060328 -0.00038064  3.00466436]\n",
      " [-0.00103907 -1.00011341 -0.00062937  3.00385315]\n",
      " [-0.00070083  0.00124314 -1.0010084  10.00075089]\n",
      " [ 0.          0.          0.          1.        ]]\n",
      "GT:\n",
      "[[1. 0. 0. 1.]\n",
      " [0. 1. 0. 2.]\n",
      " [0. 0. 1. 3.]\n",
      " [0. 0. 0. 1.]]\n",
      "[[ 1. -0. -0.  3.]\n",
      " [ 0. -1. -0.  3.]\n",
      " [ 0. -0. -1. 10.]\n",
      " [ 0.  0.  0.  1.]]\n"
     ]
    }
   ],
   "source": [
    "solution, loss, iterations, eigenvalues = np.linalg.lstsq(lhs, rhs, rcond=None)\n",
    "\n",
    "x = np.eye(4)\n",
    "x[:3, :] = solution[:12].reshape(3, 4)\n",
    "z = np.eye(4)\n",
    "z[:3, :] = solution[12:].reshape(3, 4)\n",
    "\n",
    "print(\"SOLUTION:\")\n",
    "print(x)\n",
    "print(z)\n",
    "\n",
    "print(\"GT:\")\n",
    "print(gtX)\n",
    "print(gtZ)"
   ]
  },
  {
   "cell_type": "code",
   "execution_count": 16,
   "id": "6592bf2a2a0dba7c",
   "metadata": {
    "ExecuteTime": {
     "end_time": "2023-12-03T08:59:32.616812059Z",
     "start_time": "2023-12-03T08:59:32.574739065Z"
    }
   },
   "outputs": [
    {
     "data": {
      "image/png": "[encoded data removed]",
      "text/latex": [
       "$\\displaystyle 1.0007379463785$"
      ],
      "text/plain": [
       "1.0007379463785044"
      ]
     },
     "metadata": {},
     "output_type": "display_data"
    },
    {
     "data": {
      "image/png": "[encoded data removed]",
      "text/latex": [
       "$\\displaystyle 1.0007382909633$"
      ],
      "text/plain": [
       "1.0007382909633022"
      ]
     },
     "metadata": {},
     "output_type": "display_data"
    }
   ],
   "source": [
    "display(np.linalg.det(x))\n",
    "display(np.linalg.det(z))\n"
   ]
  }
 ],
 "metadata": {
  "kernelspec": {
   "display_name": "Python 3 (ipykernel)",
   "language": "python",
   "name": "python3"
  },
  "language_info": {
   "codemirror_mode": {
    "name": "ipython",
    "version": 3
   },
   "file_extension": ".py",
   "mimetype": "text/x-python",
   "name": "python",
   "nbconvert_exporter": "python",
   "pygments_lexer": "ipython3",
   "version": "3.11.5"
  }
 },
 "nbformat": 4,
 "nbformat_minor": 5
}
