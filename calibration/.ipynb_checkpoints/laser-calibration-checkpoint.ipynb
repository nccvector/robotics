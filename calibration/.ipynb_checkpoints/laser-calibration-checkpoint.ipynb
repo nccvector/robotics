{
 "cells": [
  {
   "cell_type": "markdown",
   "id": "b9b53351",
   "metadata": {},
   "source": [
    "Trying to find equations for laser calibration using sympy"
   ]
  },
  {
   "cell_type": "code",
   "execution_count": 2,
   "id": "initial_id",
   "metadata": {
    "ExecuteTime": {
     "end_time": "2023-12-03T11:01:56.995282811Z",
     "start_time": "2023-12-03T11:01:56.593147623Z"
    },
    "collapsed": true
   },
   "outputs": [],
   "source": [
    "import numpy as np\n",
    "import sympy as sm\n",
    "import scipy.spatial.transform as transform\n",
    "np.set_printoptions(suppress=True)\n",
    "sm.init_printing()"
   ]
  },
  {
   "cell_type": "code",
   "execution_count": 11,
   "id": "3a0a275eb71f5b21",
   "metadata": {
    "ExecuteTime": {
     "end_time": "2023-12-03T11:11:55.861891889Z",
     "start_time": "2023-12-03T11:11:55.577494852Z"
    }
   },
   "outputs": [
    {
     "data": {
      "text/latex": [
       "$\\displaystyle \\left[\\begin{matrix}a_{0} & a_{1} & a_{2} & a_{3}\\\\a_{4} & a_{5} & a_{6} & a_{7}\\\\a_{8} & a_{9} & a_{10} & a_{11}\\\\0 & 0 & 0 & 1\\end{matrix}\\right]$"
      ],
      "text/plain": [
       "⎡a₀  a₁  a₂   a₃ ⎤\n",
       "⎢                ⎥\n",
       "⎢a₄  a₅  a₆   a₇ ⎥\n",
       "⎢                ⎥\n",
       "⎢a₈  a₉  a₁₀  a₁₁⎥\n",
       "⎢                ⎥\n",
       "⎣0   0    0    1 ⎦"
      ]
     },
     "metadata": {},
     "output_type": "display_data"
    },
    {
     "data": {
      "text/latex": [
       "$\\displaystyle \\left[\\begin{matrix}x_{x}\\\\x_{y}\\\\x_{z}\\\\1\\end{matrix}\\right]$"
      ],
      "text/plain": [
       "⎡xₓ ⎤\n",
       "⎢   ⎥\n",
       "⎢x_y⎥\n",
       "⎢   ⎥\n",
       "⎢x_z⎥\n",
       "⎢   ⎥\n",
       "⎣ 1 ⎦"
      ]
     },
     "metadata": {},
     "output_type": "display_data"
    },
    {
     "data": {
      "text/latex": [
       "$\\displaystyle \\left[\\begin{matrix}\\hat{x}_x\\\\\\hat{x}_y\\\\\\hat{x}_z\\\\0\\end{matrix}\\right]$"
      ],
      "text/plain": [
       "⎡\\hat{x}ₓ ⎤\n",
       "⎢         ⎥\n",
       "⎢\\hat{x}_y⎥\n",
       "⎢         ⎥\n",
       "⎢\\hat{x}_z⎥\n",
       "⎢         ⎥\n",
       "⎣    0    ⎦"
      ]
     },
     "metadata": {},
     "output_type": "display_data"
    },
    {
     "data": {
      "text/latex": [
       "$\\displaystyle \\left[\\begin{matrix}z_{x}\\\\z_{y}\\\\z_{z}\\\\1\\end{matrix}\\right]$"
      ],
      "text/plain": [
       "⎡zₓ ⎤\n",
       "⎢   ⎥\n",
       "⎢z_y⎥\n",
       "⎢   ⎥\n",
       "⎢z_z⎥\n",
       "⎢   ⎥\n",
       "⎣ 1 ⎦"
      ]
     },
     "metadata": {},
     "output_type": "display_data"
    },
    {
     "data": {
      "image/png": "[encoded data removed]",
      "text/latex": [
       "$\\displaystyle d$"
      ],
      "text/plain": [
       "d"
      ]
     },
     "metadata": {},
     "output_type": "display_data"
    },
    {
     "data": {
      "text/plain": [
       "'EQUATION:'"
      ]
     },
     "metadata": {},
     "output_type": "display_data"
    },
    {
     "data": {
      "text/latex": [
       "$\\displaystyle \\left[\\begin{matrix}a_{0} x_{x} + a_{1} x_{y} + a_{2} x_{z} + a_{3} + d \\left(\\hat{x}_x a_{0} + \\hat{x}_y a_{1} + \\hat{x}_z a_{2}\\right) - z_{x}\\\\a_{4} x_{x} + a_{5} x_{y} + a_{6} x_{z} + a_{7} + d \\left(\\hat{x}_x a_{4} + \\hat{x}_y a_{5} + \\hat{x}_z a_{6}\\right) - z_{y}\\\\a_{10} x_{z} + a_{11} + a_{8} x_{x} + a_{9} x_{y} + d \\left(\\hat{x}_x a_{8} + \\hat{x}_y a_{9} + \\hat{x}_z a_{10}\\right) - z_{z}\\\\0\\end{matrix}\\right]$"
      ],
      "text/plain": [
       "⎡  a₀⋅xₓ + a₁⋅x_y + a₂⋅x_z + a₃ + d⋅(\\hat{x}ₓ⋅a₀ + \\hat{x}_y⋅a₁ + \\hat{x}_z⋅a₂\n",
       "⎢                                                                             \n",
       "⎢ a₄⋅xₓ + a₅⋅x_y + a₆⋅x_z + a₇ + d⋅(\\hat{x}ₓ⋅a₄ + \\hat{x}_y⋅a₅ + \\hat{x}_z⋅a₆)\n",
       "⎢                                                                             \n",
       "⎢a₁₀⋅x_z + a₁₁ + a₈⋅xₓ + a₉⋅x_y + d⋅(\\hat{x}ₓ⋅a₈ + \\hat{x}_y⋅a₉ + \\hat{x}_z⋅a₁\n",
       "⎢                                                                             \n",
       "⎣                                          0                                  \n",
       "\n",
       ") - zₓ  ⎤\n",
       "        ⎥\n",
       " - z_y  ⎥\n",
       "        ⎥\n",
       "₀) - z_z⎥\n",
       "        ⎥\n",
       "        ⎦"
      ]
     },
     "metadata": {},
     "output_type": "display_data"
    }
   ],
   "source": [
    "# AX = ZB\n",
    "cardinalSymbols = ['x', 'y', 'z']\n",
    "\n",
    "aSymbols = [sm.Symbol('a' + str(i)) for i in range(3 * 4)]\n",
    "zpSymbols = [sm.Symbol('z_' + sym) for sym in cardinalSymbols]\n",
    "xpSymbols = [sm.Symbol('x_' + sym) for sym in cardinalSymbols]\n",
    "xdSymbols = [sm.Symbol('\\hat{x}_' + sym) for sym in cardinalSymbols]\n",
    "dSymbol = sm.Symbol('d')\n",
    "\n",
    "# Creating matrices from symbols\n",
    "symMatA = sm.Matrix([aSymbols[:4], aSymbols[4:8], aSymbols[8:12], [0, 0, 0, 1]])\n",
    "symMatZp = sm.Matrix([zpSymbols[0], zpSymbols[1], zpSymbols[2], 1])\n",
    "symMatXp = sm.Matrix([xpSymbols[0], xpSymbols[1], xpSymbols[2], 1])\n",
    "symMatXd = sm.Matrix([xdSymbols[0], xdSymbols[1], xdSymbols[2], 0])\n",
    "\n",
    "# Display symbols\n",
    "display(symMatA)\n",
    "display(symMatXp)\n",
    "display(symMatXd)\n",
    "display(symMatZp)\n",
    "display(dSymbol)\n",
    "\n",
    "matrixEquation = (symMatA * symMatXp + symMatA * symMatXd * dSymbol) - symMatZp\n",
    "display('EQUATION:', matrixEquation)"
   ]
  },
  {
   "cell_type": "code",
   "execution_count": 17,
   "id": "d48a98af667cccf",
   "metadata": {
    "ExecuteTime": {
     "end_time": "2023-12-03T11:21:44.389371277Z",
     "start_time": "2023-12-03T11:21:44.359947246Z"
    }
   },
   "outputs": [
    {
     "data": {
      "text/latex": [
       "$\\displaystyle \\left[\\begin{matrix}a_{0} & a_{1} & a_{2} & a_{0} d & a_{1} d & a_{2} d & -1 & 0 & 0\\\\a_{4} & a_{5} & a_{6} & a_{4} d & a_{5} d & a_{6} d & 0 & -1 & 0\\\\a_{8} & a_{9} & a_{10} & a_{8} d & a_{9} d & a_{10} d & 0 & 0 & -1\\\\0 & 0 & 0 & 0 & 0 & 0 & 0 & 0 & 0\\end{matrix}\\right]$"
      ],
      "text/plain": [
       "⎡a₀  a₁  a₂   a₀⋅d  a₁⋅d  a₂⋅d   -1  0   0 ⎤\n",
       "⎢                                          ⎥\n",
       "⎢a₄  a₅  a₆   a₄⋅d  a₅⋅d  a₆⋅d   0   -1  0 ⎥\n",
       "⎢                                          ⎥\n",
       "⎢a₈  a₉  a₁₀  a₈⋅d  a₉⋅d  a₁₀⋅d  0   0   -1⎥\n",
       "⎢                                          ⎥\n",
       "⎣0   0    0    0     0      0    0   0   0 ⎦"
      ]
     },
     "metadata": {},
     "output_type": "display_data"
    },
    {
     "data": {
      "text/latex": [
       "$\\displaystyle \\left[\\begin{matrix}- a_{3}\\\\- a_{7}\\\\- a_{11}\\\\0\\end{matrix}\\right]$"
      ],
      "text/plain": [
       "⎡-a₃ ⎤\n",
       "⎢    ⎥\n",
       "⎢-a₇ ⎥\n",
       "⎢    ⎥\n",
       "⎢-a₁₁⎥\n",
       "⎢    ⎥\n",
       "⎣ 0  ⎦"
      ]
     },
     "metadata": {},
     "output_type": "display_data"
    }
   ],
   "source": [
    "leastsqMatA, leastsqMatb = sm.linear_eq_to_matrix(\n",
    "    matrixEquation,\n",
    "    [x for x in xpSymbols] + [x for x in xdSymbols] + [z for z in zpSymbols]    # <<< Unknowns\n",
    ")\n",
    "\n",
    "display(leastsqMatA)\n",
    "display(leastsqMatb)"
   ]
  },
  {
   "cell_type": "code",
   "execution_count": 19,
   "id": "5a797a67021eb302",
   "metadata": {
    "ExecuteTime": {
     "end_time": "2023-12-03T11:22:04.507026312Z",
     "start_time": "2023-12-03T11:22:04.460013549Z"
    }
   },
   "outputs": [
    {
     "data": {
      "text/latex": [
       "$\\displaystyle \\left[\\begin{matrix}a_{0} & a_{1} & a_{2} & a_{0} d & a_{1} d & a_{2} d & -1 & 0 & 0\\\\a_{4} & a_{5} & a_{6} & a_{4} d & a_{5} d & a_{6} d & 0 & -1 & 0\\\\a_{8} & a_{9} & a_{10} & a_{8} d & a_{9} d & a_{10} d & 0 & 0 & -1\\end{matrix}\\right]$"
      ],
      "text/plain": [
       "⎡a₀  a₁  a₂   a₀⋅d  a₁⋅d  a₂⋅d   -1  0   0 ⎤\n",
       "⎢                                          ⎥\n",
       "⎢a₄  a₅  a₆   a₄⋅d  a₅⋅d  a₆⋅d   0   -1  0 ⎥\n",
       "⎢                                          ⎥\n",
       "⎣a₈  a₉  a₁₀  a₈⋅d  a₉⋅d  a₁₀⋅d  0   0   -1⎦"
      ]
     },
     "metadata": {},
     "output_type": "display_data"
    },
    {
     "data": {
      "text/latex": [
       "$\\displaystyle \\left[\\begin{matrix}- a_{3}\\\\- a_{7}\\\\- a_{11}\\end{matrix}\\right]$"
      ],
      "text/plain": [
       "⎡-a₃ ⎤\n",
       "⎢    ⎥\n",
       "⎢-a₇ ⎥\n",
       "⎢    ⎥\n",
       "⎣-a₁₁⎦"
      ]
     },
     "metadata": {},
     "output_type": "display_data"
    }
   ],
   "source": [
    "reducedLsqMatA = sm.Matrix(leastsqMatA[:3, :])\n",
    "reducedLsqMatb = sm.Matrix(leastsqMatb[:3])\n",
    "\n",
    "display(reducedLsqMatA)\n",
    "display(reducedLsqMatb)"
   ]
  },
  {
   "cell_type": "code",
   "execution_count": 25,
   "id": "f8c36c03e8d9ebcf",
   "metadata": {
    "ExecuteTime": {
     "end_time": "2023-12-03T11:25:30.759729908Z",
     "start_time": "2023-12-03T11:25:30.685045273Z"
    }
   },
   "outputs": [
    {
     "data": {
      "text/latex": [
       "$\\displaystyle \\left[\\begin{matrix}a_{0} & a_{1} & a_{2} & a_{0} d & a_{1} d & a_{2} d & -1 & 0 & 0\\\\a_{4} & a_{5} & a_{6} & a_{4} d & a_{5} d & a_{6} d & 0 & -1 & 0\\\\a_{8} & a_{9} & a_{10} & a_{8} d & a_{9} d & a_{10} d & 0 & 0 & -1\\end{matrix}\\right]$"
      ],
      "text/plain": [
       "⎡a₀  a₁  a₂   a₀⋅d  a₁⋅d  a₂⋅d   -1  0   0 ⎤\n",
       "⎢                                          ⎥\n",
       "⎢a₄  a₅  a₆   a₄⋅d  a₅⋅d  a₆⋅d   0   -1  0 ⎥\n",
       "⎢                                          ⎥\n",
       "⎣a₈  a₉  a₁₀  a₈⋅d  a₉⋅d  a₁₀⋅d  0   0   -1⎦"
      ]
     },
     "metadata": {},
     "output_type": "display_data"
    },
    {
     "data": {
      "text/latex": [
       "$\\displaystyle \\left[\\begin{matrix}- a_{3}\\\\- a_{7}\\\\- a_{11}\\end{matrix}\\right]$"
      ],
      "text/plain": [
       "⎡-a₃ ⎤\n",
       "⎢    ⎥\n",
       "⎢-a₇ ⎥\n",
       "⎢    ⎥\n",
       "⎣-a₁₁⎦"
      ]
     },
     "metadata": {},
     "output_type": "display_data"
    }
   ],
   "source": [
    "lhs = symMatA[:3, :3].row_join(symMatA[:3, :3] * dSymbol).row_join(-sm.eye(3))\n",
    "rhs = -symMatA[:3, -1]\n",
    "\n",
    "display(lhs)\n",
    "display(rhs)"
   ]
  },
  {
   "cell_type": "code",
   "execution_count": 27,
   "id": "320846264271dd9d",
   "metadata": {
    "ExecuteTime": {
     "end_time": "2023-12-03T11:27:58.718436669Z",
     "start_time": "2023-12-03T11:27:58.677706376Z"
    }
   },
   "outputs": [
    {
     "data": {
      "text/plain": [
       "True"
      ]
     },
     "execution_count": 27,
     "metadata": {},
     "output_type": "execute_result"
    }
   ],
   "source": [
    "lhs == reducedLsqMatA"
   ]
  },
  {
   "cell_type": "code",
   "execution_count": 38,
   "id": "1d42d84263d6dbca",
   "metadata": {
    "ExecuteTime": {
     "end_time": "2023-12-03T12:05:10.219388384Z",
     "start_time": "2023-12-03T12:05:10.164689269Z"
    }
   },
   "outputs": [
    {
     "data": {
      "text/latex": [
       "$\\displaystyle \\left[\\begin{matrix}R_{a} & d R_{a} & - I_{3}\\end{matrix}\\right] \\left[\\begin{matrix}x_{3, 1}\\\\\\hat{x}_{3, 1}\\\\z_{3, 1}\\end{matrix}\\right] = - t_{a}$"
      ],
      "text/plain": [
       "                ⎡   x_{3, 1}   ⎤      \n",
       "                ⎢              ⎥      \n",
       "[Rₐ  d⋅Rₐ  -I₃]⋅⎢\\hat{x}_{3, 1}⎥ = -tₐ\n",
       "                ⎢              ⎥      \n",
       "                ⎣   z_{3, 1}   ⎦      "
      ]
     },
     "metadata": {},
     "output_type": "display_data"
    }
   ],
   "source": [
    "Ra = sm.MatrixSymbol('R_a', 3, 3)\n",
    "ta = sm.MatrixSymbol('t_a', 3, 1)\n",
    "I3 = sm.MatrixSymbol('I_3', 3, 3)\n",
    "xpVec = sm.MatrixSymbol('x_{3, 1}', 3, 1)\n",
    "xdVec = sm.MatrixSymbol('\\hat{x}_{3, 1}', 3, 1)\n",
    "zpVec = sm.MatrixSymbol('z_{3, 1}', 3, 1)\n",
    "\n",
    "cuteEquationLHS = sm.BlockMatrix([\n",
    "    Ra,\n",
    "    Ra * dSymbol,\n",
    "    -I3\n",
    "]) * sm.BlockMatrix([\n",
    "    [xpVec],\n",
    "    [xdVec],\n",
    "    [zpVec]\n",
    "])\n",
    "\n",
    "\n",
    "cuteEquationRHS = -ta\n",
    "\n",
    "cuteEquation = sm.Eq(cuteEquationLHS, cuteEquationRHS)\n",
    "\n",
    "display(cuteEquation)"
   ]
  }
 ],
 "metadata": {
  "kernelspec": {
   "display_name": "Python 3 (ipykernel)",
   "language": "python",
   "name": "python3"
  },
  "language_info": {
   "codemirror_mode": {
    "name": "ipython",
    "version": 3
   },
   "file_extension": ".py",
   "mimetype": "text/x-python",
   "name": "python",
   "nbconvert_exporter": "python",
   "pygments_lexer": "ipython3",
   "version": "3.11.5"
  }
 },
 "nbformat": 4,
 "nbformat_minor": 5
}
